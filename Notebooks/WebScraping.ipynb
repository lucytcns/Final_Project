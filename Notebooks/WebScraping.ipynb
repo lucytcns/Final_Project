{
 "cells": [
  {
   "cell_type": "markdown",
   "id": "b30d076a",
   "metadata": {},
   "source": [
    "Web Scraping"
   ]
  },
  {
   "cell_type": "code",
   "execution_count": 9,
   "id": "b7f85be7",
   "metadata": {},
   "outputs": [],
   "source": [
    "import requests\n",
    "import pandas as pd\n",
    "import numpy as np"
   ]
  },
  {
   "cell_type": "markdown",
   "id": "88b10d9b",
   "metadata": {},
   "source": [
    "Calculating average value for given location, year, month, date"
   ]
  },
  {
   "cell_type": "code",
   "execution_count": 10,
   "id": "aa070637",
   "metadata": {},
   "outputs": [],
   "source": [
    "def scratch_data (loc,year,month,date):\n",
    "    headers = {'user-agent': 'Mozilla/5.0 (Windows NT 10.0; WOW64) AppleWebKit/537.36 (KHTML, like Gecko) Chrome/65.0.3325.146 Safari/537.36'}\n",
    "    ur3 = 'https://www.metaweather.com/api/location/'+str(loc)+'/'+ str(year)+'/'+str(month)+'/'+str(date)+'/'\n",
    "    r=requests.get(ur3,headers=headers)\n",
    "    data = r.json()\n",
    "    df=pd.json_normalize(data)\n",
    "    df = df.replace(np.nan,0)\n",
    "    df = df.groupby('applicable_date').mean()\n",
    "    df = df.drop(['id'], axis=1)\n",
    "    return df\n"
   ]
  },
  {
   "cell_type": "markdown",
   "id": "cb9147e1",
   "metadata": {},
   "source": [
    "Aggregate Yearly Data to One Dataframe"
   ]
  },
  {
   "cell_type": "code",
   "execution_count": 11,
   "id": "83ebd338",
   "metadata": {},
   "outputs": [],
   "source": [
    "days31 = [1,3,5,7,8,10,12]\n",
    "days30 = [4,6,9,11]\n",
    "days28 = [2]\n",
    "\n",
    "def yearlydata(loc,year,m1=days31,m2=days30,m3=days28):\n",
    "    #31 days concat\n",
    "    dftotal1 = pd.DataFrame()\n",
    "    for m in m1:\n",
    "        for i in range(1,32):\n",
    "            df= scratch_data(loc,year,m,i)\n",
    "            dftotal1 = dftotal1.append(df)\n",
    "    dftotal1 = dftotal1.reset_index()\n",
    "    \n",
    "    #30 days concat\n",
    "    dftotal2 = pd.DataFrame()\n",
    "    for m in m2:\n",
    "        for i in range(1,31):\n",
    "            df= scratch_data(loc,year,m,i)\n",
    "            dftotal2 = dftotal2.append(df)\n",
    "    dftotal2 = dftotal2.reset_index()\n",
    "\n",
    "    #28 or 29 days concat\n",
    "    rem = year%4\n",
    "    if rem==0:\n",
    "        dftotal3 = pd.DataFrame()\n",
    "        for m in m3:\n",
    "            for i in range(1,30):\n",
    "                df= scratch_data(loc,year,m,i)\n",
    "                dftotal3 = dftotal3.append(df)\n",
    "        dftotal3 = dftotal3.reset_index()\n",
    "    else:\n",
    "        dftotal3 = pd.DataFrame()\n",
    "        for m in m3:\n",
    "            for i in range(1,29):\n",
    "                df= scratch_data(loc,year,m,i)\n",
    "                dftotal3 = dftotal3.append(df)\n",
    "        dftotal3 = dftotal3.reset_index()\n",
    "\n",
    "    dftotal = pd.concat([dftotal1,dftotal2, dftotal3], ignore_index=True)\n",
    "    dftotal = dftotal.sort_values('applicable_date').reset_index(drop = True)\n",
    "    \n",
    "    return dftotal"
   ]
  },
  {
   "cell_type": "code",
   "execution_count": 87,
   "id": "723903bf",
   "metadata": {},
   "outputs": [],
   "source": [
    "pd.reset_option('display.max_rows')"
   ]
  },
  {
   "cell_type": "code",
   "execution_count": 14,
   "id": "b95b3e33",
   "metadata": {},
   "outputs": [],
   "source": [
    "m1=days31\n",
    "m2=days30\n",
    "m3=days28"
   ]
  },
  {
   "cell_type": "markdown",
   "id": "5c741c86",
   "metadata": {},
   "source": [
    "Sacramento Dataframe"
   ]
  },
  {
   "cell_type": "code",
   "execution_count": 89,
   "id": "7f7db78c",
   "metadata": {},
   "outputs": [],
   "source": [
    "data2016 = yearlydata(2486340,2016,m1,m2,m3)"
   ]
  },
  {
   "cell_type": "code",
   "execution_count": 94,
   "id": "563b2414",
   "metadata": {},
   "outputs": [],
   "source": [
    "data2017 = yearlydata(2486340,2017,m1,m2,m3)"
   ]
  },
  {
   "cell_type": "code",
   "execution_count": 95,
   "id": "f65858d5",
   "metadata": {},
   "outputs": [],
   "source": [
    "data2018 = yearlydata(2486340,2018,m1,m2,m3)"
   ]
  },
  {
   "cell_type": "code",
   "execution_count": 96,
   "id": "7520a71e",
   "metadata": {},
   "outputs": [],
   "source": [
    "data2019 = yearlydata(2486340,2019,m1,m2,m3)"
   ]
  },
  {
   "cell_type": "code",
   "execution_count": 97,
   "id": "72466330",
   "metadata": {},
   "outputs": [],
   "source": [
    "data2020 = yearlydata(2486340,2020,m1,m2,m3)"
   ]
  },
  {
   "cell_type": "code",
   "execution_count": 98,
   "id": "09f0afd0",
   "metadata": {},
   "outputs": [],
   "source": [
    "Sacdata = pd.concat([data2016,data2017, data2018, data2019, data2020], ignore_index=True)"
   ]
  },
  {
   "cell_type": "code",
   "execution_count": 100,
   "id": "1a3e8622",
   "metadata": {},
   "outputs": [
    {
     "data": {
      "text/html": [
       "<div>\n",
       "<style scoped>\n",
       "    .dataframe tbody tr th:only-of-type {\n",
       "        vertical-align: middle;\n",
       "    }\n",
       "\n",
       "    .dataframe tbody tr th {\n",
       "        vertical-align: top;\n",
       "    }\n",
       "\n",
       "    .dataframe thead th {\n",
       "        text-align: right;\n",
       "    }\n",
       "</style>\n",
       "<table border=\"1\" class=\"dataframe\">\n",
       "  <thead>\n",
       "    <tr style=\"text-align: right;\">\n",
       "      <th></th>\n",
       "      <th>applicable_date</th>\n",
       "      <th>min_temp</th>\n",
       "      <th>max_temp</th>\n",
       "      <th>the_temp</th>\n",
       "      <th>wind_speed</th>\n",
       "      <th>wind_direction</th>\n",
       "      <th>air_pressure</th>\n",
       "      <th>humidity</th>\n",
       "      <th>visibility</th>\n",
       "      <th>predictability</th>\n",
       "    </tr>\n",
       "  </thead>\n",
       "  <tbody>\n",
       "    <tr>\n",
       "      <th>1822</th>\n",
       "      <td>2020-12-27</td>\n",
       "      <td>5.143542</td>\n",
       "      <td>12.073125</td>\n",
       "      <td>11.882778</td>\n",
       "      <td>2.858036</td>\n",
       "      <td>157.589452</td>\n",
       "      <td>1015.500000</td>\n",
       "      <td>73.000000</td>\n",
       "      <td>10.573679</td>\n",
       "      <td>74.527778</td>\n",
       "    </tr>\n",
       "    <tr>\n",
       "      <th>1823</th>\n",
       "      <td>2020-12-28</td>\n",
       "      <td>5.694653</td>\n",
       "      <td>11.679167</td>\n",
       "      <td>11.096806</td>\n",
       "      <td>3.397480</td>\n",
       "      <td>255.586332</td>\n",
       "      <td>1015.000000</td>\n",
       "      <td>71.944444</td>\n",
       "      <td>10.765325</td>\n",
       "      <td>74.361111</td>\n",
       "    </tr>\n",
       "    <tr>\n",
       "      <th>1824</th>\n",
       "      <td>2020-12-29</td>\n",
       "      <td>3.298958</td>\n",
       "      <td>12.016319</td>\n",
       "      <td>10.921944</td>\n",
       "      <td>3.023182</td>\n",
       "      <td>283.189229</td>\n",
       "      <td>1022.277778</td>\n",
       "      <td>64.236111</td>\n",
       "      <td>11.756140</td>\n",
       "      <td>70.388889</td>\n",
       "    </tr>\n",
       "    <tr>\n",
       "      <th>1825</th>\n",
       "      <td>2020-12-30</td>\n",
       "      <td>2.817986</td>\n",
       "      <td>11.293819</td>\n",
       "      <td>10.937361</td>\n",
       "      <td>3.087875</td>\n",
       "      <td>182.902539</td>\n",
       "      <td>1025.055556</td>\n",
       "      <td>63.972222</td>\n",
       "      <td>11.313832</td>\n",
       "      <td>71.597222</td>\n",
       "    </tr>\n",
       "    <tr>\n",
       "      <th>1826</th>\n",
       "      <td>2020-12-31</td>\n",
       "      <td>5.320486</td>\n",
       "      <td>12.109375</td>\n",
       "      <td>11.746875</td>\n",
       "      <td>4.626476</td>\n",
       "      <td>262.858515</td>\n",
       "      <td>1022.375000</td>\n",
       "      <td>67.708333</td>\n",
       "      <td>11.323407</td>\n",
       "      <td>73.013889</td>\n",
       "    </tr>\n",
       "  </tbody>\n",
       "</table>\n",
       "</div>"
      ],
      "text/plain": [
       "     applicable_date  min_temp   max_temp   the_temp  wind_speed  \\\n",
       "1822      2020-12-27  5.143542  12.073125  11.882778    2.858036   \n",
       "1823      2020-12-28  5.694653  11.679167  11.096806    3.397480   \n",
       "1824      2020-12-29  3.298958  12.016319  10.921944    3.023182   \n",
       "1825      2020-12-30  2.817986  11.293819  10.937361    3.087875   \n",
       "1826      2020-12-31  5.320486  12.109375  11.746875    4.626476   \n",
       "\n",
       "      wind_direction  air_pressure   humidity  visibility  predictability  \n",
       "1822      157.589452   1015.500000  73.000000   10.573679       74.527778  \n",
       "1823      255.586332   1015.000000  71.944444   10.765325       74.361111  \n",
       "1824      283.189229   1022.277778  64.236111   11.756140       70.388889  \n",
       "1825      182.902539   1025.055556  63.972222   11.313832       71.597222  \n",
       "1826      262.858515   1022.375000  67.708333   11.323407       73.013889  "
      ]
     },
     "execution_count": 100,
     "metadata": {},
     "output_type": "execute_result"
    }
   ],
   "source": [
    "Sacdata.tail()"
   ]
  },
  {
   "cell_type": "code",
   "execution_count": 102,
   "id": "4422e112",
   "metadata": {},
   "outputs": [],
   "source": [
    "Sacdata.to_csv('sacramento', encoding='utf-8', index=False)"
   ]
  },
  {
   "cell_type": "markdown",
   "id": "ee6199d9",
   "metadata": {},
   "source": [
    "Lake Tahoe Dataframe"
   ]
  },
  {
   "cell_type": "code",
   "execution_count": 13,
   "id": "7c9dca16",
   "metadata": {},
   "outputs": [],
   "source": [
    "data2016t = yearlydata(23511744,2016)"
   ]
  },
  {
   "cell_type": "code",
   "execution_count": 17,
   "id": "1c8ad6a4",
   "metadata": {},
   "outputs": [],
   "source": [
    "data2017t = yearlydata(23511744,2017,m1,m2,m3)"
   ]
  },
  {
   "cell_type": "code",
   "execution_count": 18,
   "id": "91e76eee",
   "metadata": {},
   "outputs": [],
   "source": [
    "data2018t = yearlydata(23511744,2018,m1,m2,m3)"
   ]
  },
  {
   "cell_type": "code",
   "execution_count": 19,
   "id": "43007c0d",
   "metadata": {},
   "outputs": [],
   "source": [
    "data2019t = yearlydata(23511744,2019,m1,m2,m3)"
   ]
  },
  {
   "cell_type": "code",
   "execution_count": 20,
   "id": "d9db00c0",
   "metadata": {},
   "outputs": [],
   "source": [
    "data2020t = yearlydata(23511744,2020,m1,m2,m3)"
   ]
  },
  {
   "cell_type": "code",
   "execution_count": 27,
   "id": "0fe7d189",
   "metadata": {},
   "outputs": [],
   "source": [
    "Tahoedata1 = pd.concat([data2016t,data2017t, data2018t, data2019t, data2020t], ignore_index=True)"
   ]
  },
  {
   "cell_type": "markdown",
   "id": "5e2b045c",
   "metadata": {},
   "source": [
    "Las Vegas Dataframe"
   ]
  },
  {
   "cell_type": "code",
   "execution_count": 124,
   "id": "85f63791",
   "metadata": {},
   "outputs": [],
   "source": [
    "data2016v = yearlydata(2436704,2016,m1,m2,m3)"
   ]
  },
  {
   "cell_type": "code",
   "execution_count": 125,
   "id": "801d7a34",
   "metadata": {},
   "outputs": [],
   "source": [
    "data2017v = yearlydata(2436704,2017,m1,m2,m3)"
   ]
  },
  {
   "cell_type": "code",
   "execution_count": 126,
   "id": "62610639",
   "metadata": {},
   "outputs": [],
   "source": [
    "data2018v = yearlydata(2436704,2018,m1,m2,m3)"
   ]
  },
  {
   "cell_type": "code",
   "execution_count": 127,
   "id": "9074a0fd",
   "metadata": {},
   "outputs": [],
   "source": [
    "data2019v = yearlydata(2436704,2019,m1,m2,m3)"
   ]
  },
  {
   "cell_type": "code",
   "execution_count": 128,
   "id": "26dd93e2",
   "metadata": {},
   "outputs": [],
   "source": [
    "data2020v = yearlydata(2436704,2020,m1,m2,m3)"
   ]
  },
  {
   "cell_type": "code",
   "execution_count": 129,
   "id": "5b0d908f",
   "metadata": {},
   "outputs": [],
   "source": [
    "Vegasdata = pd.concat([data2016v,data2017v, data2018v, data2019v, data2020v], ignore_index=True)"
   ]
  },
  {
   "cell_type": "markdown",
   "id": "311560ae",
   "metadata": {},
   "source": [
    "Denver Dataframe"
   ]
  },
  {
   "cell_type": "code",
   "execution_count": 115,
   "id": "b89e09f5",
   "metadata": {},
   "outputs": [],
   "source": [
    "data2016d = yearlydata(2391279,2016,m1,m2,m3)"
   ]
  },
  {
   "cell_type": "code",
   "execution_count": 118,
   "id": "0c058897",
   "metadata": {},
   "outputs": [],
   "source": [
    "data2017d = yearlydata(2391279,2017,m1,m2,m3)"
   ]
  },
  {
   "cell_type": "code",
   "execution_count": 119,
   "id": "bedf4e37",
   "metadata": {},
   "outputs": [],
   "source": [
    "data2018d = yearlydata(2391279,2018,m1,m2,m3)"
   ]
  },
  {
   "cell_type": "code",
   "execution_count": 120,
   "id": "47f3d389",
   "metadata": {},
   "outputs": [],
   "source": [
    "data2019d = yearlydata(2391279,2019,m1,m2,m3)"
   ]
  },
  {
   "cell_type": "code",
   "execution_count": 121,
   "id": "6f04ad6f",
   "metadata": {},
   "outputs": [],
   "source": [
    "data2020d = yearlydata(2391279,2020,m1,m2,m3)"
   ]
  },
  {
   "cell_type": "code",
   "execution_count": 122,
   "id": "a438eeaa",
   "metadata": {},
   "outputs": [],
   "source": [
    "Denverdata = pd.concat([data2016d,data2017d, data2018d, data2019d, data2020d], ignore_index=True)"
   ]
  },
  {
   "cell_type": "markdown",
   "id": "8b31db98",
   "metadata": {},
   "source": [
    "Indianapolis Dataframe"
   ]
  },
  {
   "cell_type": "code",
   "execution_count": 132,
   "id": "986a567b",
   "metadata": {},
   "outputs": [],
   "source": [
    "data2016i = yearlydata(2427032,2016,m1,m2,m3)"
   ]
  },
  {
   "cell_type": "code",
   "execution_count": 133,
   "id": "8cc4e6ff",
   "metadata": {},
   "outputs": [],
   "source": [
    "data2017i = yearlydata(2427032,2017,m1,m2,m3)"
   ]
  },
  {
   "cell_type": "code",
   "execution_count": 134,
   "id": "b9a3de16",
   "metadata": {},
   "outputs": [],
   "source": [
    "data2018i = yearlydata(2427032,2018,m1,m2,m3)"
   ]
  },
  {
   "cell_type": "code",
   "execution_count": 135,
   "id": "8f7f9dd8",
   "metadata": {},
   "outputs": [],
   "source": [
    "data2019i = yearlydata(2427032,2019,m1,m2,m3)"
   ]
  },
  {
   "cell_type": "code",
   "execution_count": 136,
   "id": "fb144ff9",
   "metadata": {},
   "outputs": [],
   "source": [
    "data2020i = yearlydata(2427032,2020,m1,m2,m3)"
   ]
  },
  {
   "cell_type": "code",
   "execution_count": 137,
   "id": "a9d96d69",
   "metadata": {},
   "outputs": [],
   "source": [
    "Indianapolisdata = pd.concat([data2016i,data2017i, data2018i, data2019i, data2020i], ignore_index=True)"
   ]
  },
  {
   "cell_type": "markdown",
   "id": "a2136165",
   "metadata": {},
   "source": [
    "Transform Dataframe to csv File for Graphing"
   ]
  },
  {
   "cell_type": "code",
   "execution_count": 29,
   "id": "adbcd7f5",
   "metadata": {},
   "outputs": [],
   "source": [
    "Tahoedata1.to_csv('Lake_Tahoe1', encoding='utf-8', index=False)"
   ]
  },
  {
   "cell_type": "code",
   "execution_count": 130,
   "id": "9db12bb5",
   "metadata": {},
   "outputs": [],
   "source": [
    "Vegasdata.to_csv('Las_Vegas', encoding='utf-8', index=False)"
   ]
  },
  {
   "cell_type": "code",
   "execution_count": 123,
   "id": "942eac2a",
   "metadata": {},
   "outputs": [],
   "source": [
    "Denverdata.to_csv('Denver', encoding='utf-8', index=False)"
   ]
  },
  {
   "cell_type": "code",
   "execution_count": 138,
   "id": "8e24431b",
   "metadata": {},
   "outputs": [],
   "source": [
    "Indianapolisdata.to_csv('Indianaplis', encoding='utf-8', index=False)"
   ]
  }
 ],
 "metadata": {
  "kernelspec": {
   "display_name": "Python 3",
   "language": "python",
   "name": "python3"
  },
  "language_info": {
   "codemirror_mode": {
    "name": "ipython",
    "version": 3
   },
   "file_extension": ".py",
   "mimetype": "text/x-python",
   "name": "python",
   "nbconvert_exporter": "python",
   "pygments_lexer": "ipython3",
   "version": "3.8.8"
  }
 },
 "nbformat": 4,
 "nbformat_minor": 5
}
